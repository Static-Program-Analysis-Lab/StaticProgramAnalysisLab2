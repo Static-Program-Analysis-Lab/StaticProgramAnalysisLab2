{
 "cells": [
  {
   "cell_type": "markdown",
   "source": [
    "# &#128214; Lab 2: Instrumentation / Code Transformation"
   ],
   "metadata": {
    "collapsed": false
   },
   "id": "5ac6b6c95005224f"
  },
  {
   "cell_type": "markdown",
   "source": [
    "## &#128221; Exercise 1: Adding Statements with ASTs\n",
    "\n",
    "### &#127919; Objective\n",
    "To introduce you to the concept of code instrumentation with a focus on adding new statements to existing Python code using Abstract Syntax Trees.\n",
    "\n",
    "---\n",
    "\n",
    "### &#128161; Background\n",
    "\n",
    "Code instrumentation refers to the process of modifying, inserting, or removing code from a program. \n",
    "\n",
    "This technique is commonly used for:\n",
    "\n",
    "1. Debugging: To trace the execution flow or the state of variables at specific points.\n",
    "2. Profiling: To measure performance attributes like time complexity, memory usage, or I/O operations.\n",
    "3. Monitoring: To track software health in real-time for proactive issue resolution.\n",
    "4. Code Coverage: To identify which parts of the codebase are executed during tests.\n",
    "5. Security: To detect and analyze anomalies in code behavior that may signify vulnerabilities.\n",
    "\n",
    "Instrumentation can be implemented manually, or through programmatic techniques like using Abstract Syntax Trees (ASTs).\n",
    "\n",
    "In this exercise, you'll learn how to instrument a Python script by adding statements with the AST.\n",
    "\n",
    "---\n",
    "\n",
    "### &#10145; Task\n",
    "\n",
    "Parse a Python script into an AST and instrument the code by only adding new statements. Specifically, add logging statements before each function call in the script.\n",
    "\n",
    "---\n",
    "\n",
    "### &#128221; Instructions\n",
    "\n",
    "1. Use the `ast.parse` function to parse the provided Python script into an AST.\n",
    "2. Create a custom `NodeTransformer` class that will visit every `ast.Call` node in the tree and insert a logging statement immediately before the call.\n",
    "3. Apply the `NodeTransformer` class to the AST obtained in step 1 using its `visit` method.\n",
    "4. Utilize `ast.unparse` or a similar function to regenerate Python code from the modified AST.\n",
    "5. Execute both the original and the instrumented code to verify that the new logging statements are executed as intended.\n",
    "\n",
    "==> For converting the modified AST back into Python code, you can use `ast.unparse()` or third-party libraries like `astor`. To facilitate logging, you can use the `print()` function.\n",
    "\n",
    "By completing this exercise, you will gain practical experience in adding statements to Python code via AST-based code instrumentation."
   ],
   "metadata": {
    "collapsed": false
   },
   "id": "bc5eda7bb47e6eb4"
  },
  {
   "cell_type": "markdown",
   "source": [
    "### Import the necessary library\n",
    "\n",
    "&#128161; *In the following cell, we will import the library needed for this exercise:*\n",
    "- `ast`: a module of the python standard library to transform Python code in its AST representation\n",
    "- `astunparse` : a Python library used for converting an Abstract Syntax Tree (AST) back into equivalent Python source code."
   ],
   "metadata": {
    "collapsed": false
   },
   "id": "9c5bba2ba1060dd9"
  },
  {
   "cell_type": "code",
   "execution_count": null,
   "outputs": [],
   "source": [
    "import ast\n",
    "import astunparse"
   ],
   "metadata": {
    "collapsed": false
   },
   "id": "1ec67f57ed941bcd"
  },
  {
   "cell_type": "markdown",
   "source": [
    "Python code\n",
    "\n",
    "&#128161; The following cell contains a string that represents the Python code that will be analyzed through this exercise"
   ],
   "metadata": {
    "collapsed": false
   },
   "id": "40e6a56ae1aa275e"
  },
  {
   "cell_type": "code",
   "execution_count": null,
   "outputs": [],
   "source": [
    "code = '''\n",
    "def foo(x):\n",
    "    return x * 2\n",
    "\n",
    "def bar(x):\n",
    "    return x + 1\n",
    "\n",
    "result = foo(10)\n",
    "print(result)\n",
    "\n",
    "result = bar(20)\n",
    "print(result)\n",
    "'''"
   ],
   "metadata": {
    "collapsed": false
   },
   "id": "d9bb60249b50e294"
  },
  {
   "cell_type": "markdown",
   "source": [
    "&#128161; In the following cell, you will implement a class, say `AddLogging` that extends the `ast.NodeTransformer` class (see: https://docs.python.org/3/library/ast.html#ast.NodeTransformer), and you will implement the `visit_Expr` function to handle call statements.\n",
    "\n",
    "The idea is to locate any function call and add a `print` statement right before it.\n",
    "\n",
    "To create a new call in the AST, you can use the following piece of code:\n",
    "```python\n",
    "log_call = ast.Expr(\n",
    "            value=ast.Call(\n",
    "                func=ast.Name(id='print', ctx=ast.Load()),\n",
    "                args=[\n",
    "                    ast.Str(s=f\"Calling: {astunparse.unparse(node.func).strip()}\")\n",
    "                ],\n",
    "                keywords=[]\n",
    "            )\n",
    "        )\n",
    "```\n",
    "\n",
    "It relies on structures of the AST such as `ast.Expr`, `ast.Call`, etc. to build the call.\n",
    "\n",
    "The `visit_Expr` function needs to return a list of two nodes: the new node and the node from which we initiated the instrumentation."
   ],
   "metadata": {
    "collapsed": false
   },
   "id": "d1ee6c9883cf491"
  },
  {
   "cell_type": "code",
   "execution_count": null,
   "outputs": [],
   "source": [
    "class AddLogging(ast.NodeTransformer):\n",
    "    \"\"\"\n",
    "    NodeTransformer class to insert logging statements before each function call.\n",
    "\n",
    "    Returns:\n",
    "    ast.AST: Modified AST with logging statements inserted before function calls.\n",
    "    \"\"\"\n",
    "    \n",
    "    def visit_Expr(self, node):\n",
    "        \"\"\"\n",
    "        Visit each Expr node in the AST to find function calls.\n",
    "\n",
    "        Parameters:\n",
    "        node (ast.Expr): The current expression statement node.\n",
    "\n",
    "        Returns:\n",
    "        list: A list containing the original node and the new logging statement node.\n",
    "        \"\"\""
   ],
   "metadata": {
    "collapsed": false
   },
   "id": "462e048f14224c2f"
  },
  {
   "cell_type": "markdown",
   "source": [
    "#### Test your code\n",
    "\n",
    "&#128161; In the following cell, you will parse the code into an AST.\n",
    "Then, you will initialize an object of type `AddLogging` and call the `visit` method on it with the ast as a parameter."
   ],
   "metadata": {
    "collapsed": false
   },
   "id": "ea63ee33ba862f09"
  },
  {
   "cell_type": "code",
   "execution_count": null,
   "outputs": [],
   "source": [],
   "metadata": {
    "collapsed": false
   },
   "id": "392eda7e6fb80b8d"
  },
  {
   "cell_type": "markdown",
   "source": [
    "&#128161; In the following cell, you will get the instrumented code into a variable by using the `astunparse.unparse()` function with the AST as a parameter."
   ],
   "metadata": {
    "collapsed": false
   },
   "id": "55bdf590f36b0746"
  },
  {
   "cell_type": "code",
   "execution_count": null,
   "outputs": [],
   "source": [],
   "metadata": {
    "collapsed": false
   },
   "id": "42e9abe2bb655519"
  },
  {
   "cell_type": "markdown",
   "source": [
    "&#128161; Print the instrumented code"
   ],
   "metadata": {
    "collapsed": false
   },
   "id": "ac6aa1125c7cf4d4"
  },
  {
   "cell_type": "code",
   "execution_count": null,
   "outputs": [],
   "source": [
    "print(\"Instrumented code:\")"
   ],
   "metadata": {
    "collapsed": false
   },
   "id": "90e4318d5263a3a3"
  },
  {
   "cell_type": "markdown",
   "source": [
    "&#10067; In the following cell you will use execute the original piece of code provided"
   ],
   "metadata": {
    "collapsed": false
   },
   "id": "fbb8754101d16486"
  },
  {
   "cell_type": "code",
   "execution_count": null,
   "outputs": [],
   "source": [],
   "metadata": {
    "collapsed": false
   },
   "id": "629863f0d03e3290"
  },
  {
   "cell_type": "markdown",
   "source": [
    "&#10067; In the following cell you will use execute the instrumented piece of code provided"
   ],
   "metadata": {
    "collapsed": false
   },
   "id": "9bbc6d8d626be57c"
  },
  {
   "cell_type": "code",
   "execution_count": null,
   "outputs": [],
   "source": [],
   "metadata": {
    "collapsed": false
   },
   "id": "71fbc60ae9cdef00"
  },
  {
   "cell_type": "markdown",
   "source": [
    "Describe the differences"
   ],
   "metadata": {
    "collapsed": false
   },
   "id": "fcbc255b90128d58"
  },
  {
   "cell_type": "markdown",
   "source": [
    "&#10067; Did it allow to add print statements for all call statements?\n",
    "\n",
    "This is normal, since statements such as `a = b()` are not `ast.Expr` statements!\n",
    "\n",
    "Modify the `AddLogging` function so that it takes them into account.\n",
    "\n",
    "Check the `visit_Assign` function."
   ],
   "metadata": {
    "collapsed": false
   },
   "id": "b40ae20e6cc47ca6"
  },
  {
   "cell_type": "code",
   "execution_count": null,
   "outputs": [],
   "source": [
    "class AddLogging(ast.NodeTransformer):\n",
    "    \"\"\"\n",
    "    NodeTransformer class to insert logging statements before each function call.\n",
    "\n",
    "    Returns:\n",
    "    ast.AST: Modified AST with logging statements inserted before function calls.\n",
    "    \"\"\"\n",
    "    \n",
    "    def visit_Expr(self, node):\n",
    "        \"\"\"\n",
    "        Visit each Expr node in the AST to find function calls.\n",
    "\n",
    "        Parameters:\n",
    "        node (ast.Expr): The current expression statement node.\n",
    "\n",
    "        Returns:\n",
    "        list: A list containing the original node and the new logging statement node.\n",
    "        \"\"\"\n",
    "\n",
    "    def visit_Assign(self, node):\n",
    "        \"\"\"\n",
    "        Visit each Assign node in the AST to find function calls.\n",
    "\n",
    "        Parameters:\n",
    "        node (ast.Assign): The current assignment statement node.\n",
    "\n",
    "        Returns:\n",
    "        list: A list containing the new logging statement node and the original node.\n",
    "        \"\"\""
   ],
   "metadata": {
    "collapsed": false
   },
   "id": "955aa8283de7830c"
  },
  {
   "cell_type": "markdown",
   "source": [
    "#### Test your code\n",
    "\n",
    "&#128161; In the following cell, you will parse the code into an AST.\n",
    "Then, you will initialize an object of type `AddLogging` and call the `visit` method on it with the ast as a parameter."
   ],
   "metadata": {
    "collapsed": false
   },
   "id": "51b8ae59032a5f3d"
  },
  {
   "cell_type": "code",
   "execution_count": null,
   "outputs": [],
   "source": [],
   "metadata": {
    "collapsed": false
   },
   "id": "50d91586d1a6fd4a"
  },
  {
   "cell_type": "markdown",
   "source": [
    "&#128161; In the following cell, you will get the instrumented code into a variable by using the `astunparse.unparse()` function with the AST as a parameter."
   ],
   "metadata": {
    "collapsed": false
   },
   "id": "8f19c8dce40e96db"
  },
  {
   "cell_type": "code",
   "execution_count": null,
   "outputs": [],
   "source": [],
   "metadata": {
    "collapsed": false
   },
   "id": "8719cc743217ad96"
  },
  {
   "cell_type": "markdown",
   "source": [
    "&#128161; Print the instrumented code"
   ],
   "metadata": {
    "collapsed": false
   },
   "id": "f9b2546b6879ac69"
  },
  {
   "cell_type": "code",
   "execution_count": null,
   "outputs": [],
   "source": [
    "print(\"Instrumented code:\")"
   ],
   "metadata": {
    "collapsed": false
   },
   "id": "823ab384361668a6"
  },
  {
   "cell_type": "markdown",
   "source": [
    "&#128161; In the following cell you will use execute the original piece of code provided"
   ],
   "metadata": {
    "collapsed": false
   },
   "id": "db910c69ba68d203"
  },
  {
   "cell_type": "code",
   "execution_count": null,
   "outputs": [],
   "source": [],
   "metadata": {
    "collapsed": false
   },
   "id": "23bc00f6f67d324b"
  },
  {
   "cell_type": "markdown",
   "source": [
    "&#128161; In the following cell you will use execute the instrumented piece of code provided"
   ],
   "metadata": {
    "collapsed": false
   },
   "id": "6fd9db34010c8fb1"
  },
  {
   "cell_type": "code",
   "execution_count": null,
   "outputs": [],
   "source": [],
   "metadata": {
    "collapsed": false
   },
   "id": "3a28013dc4e8cf2"
  },
  {
   "cell_type": "markdown",
   "source": [
    "Describe the differences, is it better?"
   ],
   "metadata": {
    "collapsed": false
   },
   "id": "cc2c9026fbe48f30"
  },
  {
   "cell_type": "markdown",
   "source": [
    "## &#128221; Exercise 2: Modifying Code with Abstract Syntax Trees (ASTs)\n",
    "\n",
    "### &#127919; Objective\n",
    "To teach you how to modify existing Python code programmatically using ASTs for purposes such as optimization or refactoring.\n",
    "\n",
    "---\n",
    "\n",
    "### &#128161; Background\n",
    "\n",
    "The ability to modify code programmatically allows you to achieve:\n",
    "\n",
    "1. Code Refactoring: Enhance code maintainability and readability.\n",
    "2. Optimization: Improve code performance.\n",
    "3. Security Hardening: Modify code to adhere to security best practices.\n",
    "\n",
    "In this exercise, you will focus on modifying existing code using ASTs, specifically targeting arithmetic expressions for simplification.\n",
    "\n",
    "---\n",
    "\n",
    "### &#10145; Task\n",
    "\n",
    "Parse a Python script into an AST and modify existing arithmetic expressions to simplify them, e.g., convert `x * 1` to `x`.\n",
    "\n",
    "---\n",
    "\n",
    "### &#128221; Instructions\n",
    "\n",
    "1. Use the `ast.parse` function to parse the provided Python script into an AST.\n",
    "2. Create a custom `NodeTransformer` class to visit every `ast.BinOp` node in the tree. Implement logic to simplify the arithmetic expression where possible.\n",
    "3. Apply this `NodeTransformer` class to the AST obtained in step 1 using its `visit` method.\n",
    "4. Utilize `ast.unparse` or a similar function to regenerate Python code from the modified AST.\n",
    "5. Execute both the original and the modified code to verify that they are functionally equivalent but that the modified code contains simplified expressions.\n",
    "\n",
    "==> For instance, if the original code contains an expression like `x * 1`, the modified code should contain `x`.\n",
    "\n",
    "This exercise will deepen your understanding of ASTs and their capability to programmatically refactor and optimize code."
   ],
   "metadata": {
    "collapsed": false
   },
   "id": "c5c401a502deb08f"
  },
  {
   "cell_type": "markdown",
   "source": [
    "Python code\n",
    "\n",
    "&#128161; The following cell contains a string that represents the Python code that will be analyzed through this exercise"
   ],
   "metadata": {
    "collapsed": false
   },
   "id": "9b65624a592eedd5"
  },
  {
   "cell_type": "code",
   "execution_count": null,
   "outputs": [],
   "source": [
    "code = \"\"\"\n",
    "y = 8\n",
    "x = y * 1\n",
    "z = 0 + x\n",
    "w = z * 1\n",
    "print(w)\n",
    "\"\"\""
   ],
   "metadata": {
    "collapsed": false
   },
   "id": "c6a665a5ee8877bd"
  },
  {
   "cell_type": "markdown",
   "source": [
    "&#128161; In the following cell, you will implement a class, say `SimplifyArithmetic` that extends the `ast.NodeTransformer` class to modify arithmetic expressions.\n",
    "\n",
    "You have to simplify expressions such as `a * 1` to `a` and `a + 0` to `a`.\n",
    "\n"
   ],
   "metadata": {
    "collapsed": false
   },
   "id": "bdf6d63d216f70c8"
  },
  {
   "cell_type": "code",
   "execution_count": null,
   "outputs": [],
   "source": [
    "class SimplifyArithmetic(ast.NodeTransformer):\n",
    "    \"\"\"\n",
    "    NodeTransformer class to simplify arithmetic expressions.\n",
    "\n",
    "    Returns:\n",
    "    ast.AST: Modified AST with simplified arithmetic expressions.\n",
    "    \"\"\"\n",
    "    \n",
    "    def visit_BinOp(self, node):\n",
    "        \"\"\"\n",
    "        Visit each BinOp node in the AST to simplify arithmetic expressions.\n",
    "\n",
    "        Parameters:\n",
    "        node (ast.BinOp): The current binary operation node.\n",
    "\n",
    "        Returns:\n",
    "        ast.BinOp or ast.Name: Simplified arithmetic expression node or original node.\n",
    "        \"\"\""
   ],
   "metadata": {
    "collapsed": false
   },
   "id": "d062047a83af6eea"
  },
  {
   "cell_type": "markdown",
   "source": [
    "#### Test your code\n",
    "\n",
    "&#128161; In the following cell, you will parse the code into an AST.\n",
    "Then, you will initialize an object of type `SimplifyArithmetic` and call the `visit` method on it with the ast as a parameter."
   ],
   "metadata": {
    "collapsed": false
   },
   "id": "134f26ffa4a2e15d"
  },
  {
   "cell_type": "code",
   "execution_count": null,
   "outputs": [],
   "source": [],
   "metadata": {
    "collapsed": false
   },
   "id": "2fc721db548664d9"
  },
  {
   "cell_type": "markdown",
   "source": [
    "&#128161; In the following cell, you will get the instrumented code into a variable by using the `astunparse.unparse()` function with the AST as a parameter."
   ],
   "metadata": {
    "collapsed": false
   },
   "id": "769f45de42b422fe"
  },
  {
   "cell_type": "code",
   "execution_count": null,
   "outputs": [],
   "source": [],
   "metadata": {
    "collapsed": false
   },
   "id": "ce1b77dd14c8ef21"
  },
  {
   "cell_type": "markdown",
   "source": [
    "&#128161; Print the instrumented code"
   ],
   "metadata": {
    "collapsed": false
   },
   "id": "ce484f475a752e83"
  },
  {
   "cell_type": "code",
   "execution_count": null,
   "outputs": [],
   "source": [
    "print(\"Modified code:\")"
   ],
   "metadata": {
    "collapsed": false
   },
   "id": "b3b3b7cce176694"
  },
  {
   "cell_type": "markdown",
   "source": [
    "&#128161; In the following cell you will use execute the original piece of code provided"
   ],
   "metadata": {
    "collapsed": false
   },
   "id": "56960ba58c5cbcbc"
  },
  {
   "cell_type": "code",
   "execution_count": null,
   "outputs": [],
   "source": [],
   "metadata": {
    "collapsed": false
   },
   "id": "fdf7bb5cad14bd24"
  },
  {
   "cell_type": "markdown",
   "source": [
    "&#128161; In the following cell you will use execute the instrumented piece of code provided"
   ],
   "metadata": {
    "collapsed": false
   },
   "id": "c5973a0018788315"
  },
  {
   "cell_type": "code",
   "execution_count": null,
   "outputs": [],
   "source": [],
   "metadata": {
    "collapsed": false
   },
   "id": "df59b01deeee86bb"
  },
  {
   "cell_type": "markdown",
   "source": [
    "&#10067; Do you have the same behavior?"
   ],
   "metadata": {
    "collapsed": false
   },
   "id": "67ebd3d827c8b50b"
  }
 ],
 "metadata": {
  "kernelspec": {
   "display_name": "Python 3",
   "language": "python",
   "name": "python3"
  },
  "language_info": {
   "codemirror_mode": {
    "name": "ipython",
    "version": 2
   },
   "file_extension": ".py",
   "mimetype": "text/x-python",
   "name": "python",
   "nbconvert_exporter": "python",
   "pygments_lexer": "ipython2",
   "version": "2.7.6"
  }
 },
 "nbformat": 4,
 "nbformat_minor": 5
}
